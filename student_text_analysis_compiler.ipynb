{
  "nbformat": 4,
  "nbformat_minor": 0,
  "metadata": {
    "colab": {
      "provenance": [],
      "collapsed_sections": []
    },
    "kernelspec": {
      "name": "python3",
      "display_name": "Python 3"
    },
    "language_info": {
      "name": "python"
    }
  },
  "cells": [
    {
      "cell_type": "code",
      "source": [
        "# Hey Chris, in the next line put the folder where all the student folders are contained, I think I've left it as you had it but best to make sure.\n",
        "text_analysis_folders_path = '/content/drive/MyDrive/Student Text analysis'\n",
        "# Here put the link that you get when you press copy link on the database spreadsheet. This definitely needs changing as it is currently connected to my database\n",
        "database_path = 'https://docs.google.com/spreadsheets/d/1Y4BzFlHPEMYWtK1V8wtOA4WbCEG4Bb_7wTD0QM4XlI0/edit?usp=sharing'"
      ],
      "metadata": {
        "id": "QWieLvxemDTP"
      },
      "execution_count": null,
      "outputs": []
    },
    {
      "cell_type": "code",
      "source": [
        "from google.colab import drive\n",
        "drive.mount('/content/drive')"
      ],
      "metadata": {
        "id": "dZt65Adz7kwY",
        "colab": {
          "base_uri": "https://localhost:8080/"
        },
        "outputId": "089564e6-38ac-4eed-a8cb-11305f26a58d"
      },
      "execution_count": null,
      "outputs": [
        {
          "output_type": "stream",
          "name": "stdout",
          "text": [
            "Mounted at /content/drive\n"
          ]
        }
      ]
    },
    {
      "cell_type": "code",
      "source": [
        "from google.colab import auth\n",
        "auth.authenticate_user()\n",
        "from oauth2client.client import GoogleCredentials\n",
        "\n",
        "import gspread\n",
        "from google.auth import default\n",
        "creds, _ = default()\n",
        "\n",
        "gc = gspread.authorize(creds)"
      ],
      "metadata": {
        "id": "N2FszqJYSwpH"
      },
      "execution_count": null,
      "outputs": []
    },
    {
      "cell_type": "code",
      "source": [
        "import pandas as pd\n",
        "import numpy as np\n",
        "import os\n",
        "!pip install xlsxwriter\n",
        "from openpyxl import load_workbook\n",
        "from sklearn.linear_model import LinearRegression"
      ],
      "metadata": {
        "colab": {
          "base_uri": "https://localhost:8080/"
        },
        "id": "WDmobEswBX5p",
        "outputId": "fd6875e4-5f67-48a0-9608-342e410df506"
      },
      "execution_count": null,
      "outputs": [
        {
          "output_type": "stream",
          "name": "stdout",
          "text": [
            "Looking in indexes: https://pypi.org/simple, https://us-python.pkg.dev/colab-wheels/public/simple/\n",
            "Collecting xlsxwriter\n",
            "  Downloading XlsxWriter-3.0.3-py3-none-any.whl (149 kB)\n",
            "\u001b[K     |████████████████████████████████| 149 kB 5.1 MB/s \n",
            "\u001b[?25hInstalling collected packages: xlsxwriter\n",
            "Successfully installed xlsxwriter-3.0.3\n"
          ]
        }
      ]
    },
    {
      "cell_type": "code",
      "source": [
        "list_of_folders = []\n",
        "file_paths = []\n",
        "\n",
        "for i in os.listdir(text_analysis_folders_path):\n",
        "  try:\n",
        "    os.listdir(text_analysis_folders_path+\"/\"+i)\n",
        "    list_of_folders.append(text_analysis_folders_path+\"/\"+i)\n",
        "  except:\n",
        "    print('not a folder')\n",
        "\n",
        "for j in list_of_folders:\n",
        "  for filename in os.listdir(j):\n",
        "        file_paths.append(j+\"/\"+filename)"
      ],
      "metadata": {
        "colab": {
          "base_uri": "https://localhost:8080/"
        },
        "id": "OxLniEgfVj8D",
        "outputId": "d6f5ccb9-f737-4674-e3de-a8f689679f5a"
      },
      "execution_count": null,
      "outputs": [
        {
          "output_type": "stream",
          "name": "stdout",
          "text": [
            "not a folder\n",
            "not a folder\n"
          ]
        }
      ]
    },
    {
      "cell_type": "code",
      "source": [
        "def file_name(path):\n",
        "  last_slash = path.rfind('/')\n",
        "  ftype = path.find('.gsheet')\n",
        "  file_name = path[last_slash+1:ftype]\n",
        "  return file_name\n",
        "\n",
        "def user_details(file_name):\n",
        "  list_of_details = file_name.split('-')\n",
        "  user_id = list_of_details[0].strip()\n",
        "  name = list_of_details[1].strip()\n",
        "  date = '{}/{}/{}'.format(\n",
        "      list_of_details[2],\n",
        "      list_of_details[3],\n",
        "      list_of_details[4]\n",
        "  )\n",
        "  return user_id, name, date\n",
        "\n",
        "def gsheet2df(gsheet):\n",
        "    \"\"\" Converts Google sheet data to a Pandas DataFrame.\n",
        "    Note: This script assumes that your data contains a header file on the first row!\n",
        "\n",
        "    Also note that the Google API returns 'none' from empty cells - in order for the code\n",
        "    below to work, you'll need to make sure your sheet doesn't contain empty cells,\n",
        "    or update the code to account for such instances.\n",
        "\n",
        "    \"\"\"\n",
        "    header = gsheet.get('values', [])[0]   # Assumes first line is header!\n",
        "    values = gsheet.get('values', [])[1:]  # Everything else is data.\n",
        "    if not values:\n",
        "        print('No data found.')\n",
        "    else:\n",
        "        all_data = []\n",
        "        for col_id, col_name in enumerate(header):\n",
        "            column_data = []\n",
        "            for row in values:\n",
        "                column_data.append(row[col_id])\n",
        "            ds = pd.Series(data=column_data, name=col_name)\n",
        "            all_data.append(ds)\n",
        "        df = pd.concat(all_data, axis=1)\n",
        "        return df"
      ],
      "metadata": {
        "id": "qU7ZNjaYCK7p"
      },
      "execution_count": null,
      "outputs": []
    },
    {
      "cell_type": "code",
      "source": [
        "def read_csv(path):\n",
        "  df = pd.read_csv(path)\n",
        "  return df\n",
        "\n",
        "def read_gsheet(path):\n",
        "  path = file_name(path)\n",
        "  values = gc.open(path).get_worksheet(0).get_all_values()\n",
        "  df = pd.DataFrame(values[1:], columns=values[0])\n",
        "  return df \n",
        "\n",
        "def path_checker(path):\n",
        "  if path.endswith('.csv'):\n",
        "    df = read_csv(path)\n",
        "  elif path.endswith('.gsheet'):\n",
        "    df = read_gsheet(path)\n",
        "  else:\n",
        "    print('not a proper filetype')\n",
        "  return df"
      ],
      "metadata": {
        "id": "_Pb821pueDnF"
      },
      "execution_count": null,
      "outputs": []
    },
    {
      "cell_type": "code",
      "source": [
        "info = {}\n",
        "\n",
        "\n",
        "for path in file_paths:\n",
        "  individual_file_name = file_name(path)\n",
        "  id, name, date = user_details(individual_file_name)\n",
        "\n",
        "  if 'Student ID' in info:\n",
        "      info['Student ID'].append(id)\n",
        "  else:\n",
        "      info['Student ID'] = [id]\n",
        "    \n",
        "  if 'Student Name' in info:\n",
        "      info['Student Name'].append(name)\n",
        "  else:\n",
        "      info['Student Name'] = [name]\n",
        "\n",
        "  if 'Lesson Date' in info:\n",
        "      info['Lesson Date'].append(date)\n",
        "  else:\n",
        "      info['Lesson Date'] = [date]\n",
        "\n",
        "\n",
        "\n",
        "  df = path_checker(path)\n",
        "  keys = df['Data'].values\n",
        "  values = df['Document 1'].values\n",
        "  for i,j in zip(keys, values):   \n",
        "    if i in info:\n",
        "        info[i].append(j)\n",
        "    else:\n",
        "        info[i] = [j]"
      ],
      "metadata": {
        "id": "R8xnuDrEglf5"
      },
      "execution_count": null,
      "outputs": []
    },
    {
      "cell_type": "code",
      "source": [
        "columns_wanted = ['Student Name',\n",
        "                  'Student ID',\n",
        "                  'Lesson Date',\n",
        "                  'Average Sentence Length',\n",
        "                  'Lexical diversity (VOCD)',\n",
        "                  'Lexical diversity (MTLD)',\n",
        "                  'Spelling errors total',\n",
        "                  'A1 type %',\n",
        "                  'A2 type %',\n",
        "                  'B1 type %',\n",
        "                  'B2 type %',\n",
        "                  'C1 type %',\n",
        "                  'C2 type %',\n",
        "                  'Announce Goals type count',\n",
        "                  'Attitude marker type count',\n",
        "                  'Code gloss type count',\n",
        "                  'Emphatic type count',\n",
        "                  'Endophoric type count',\n",
        "                  'Evidential type count',\n",
        "                  'Hedge type count',\n",
        "                  'Label stage type count',\n",
        "                  'Logical connective type count',\n",
        "                  'Person marker type count',\n",
        "                  'Relational marker type count',\n",
        "                  'Sequencing type count',\n",
        "                  'Topic shift type count',\n",
        "                  'CEFR level',\n",
        "                  'Flesch Kincaid Reading Grade - CEFR level']\n",
        "\n",
        "\n",
        "CEFR_level_converter = {'C2':1,\n",
        "                        'C2+':2,\n",
        "                        'C1':3,\n",
        "                        'C1+':4,\n",
        "                        'B2':5,\n",
        "                        'B2+':6,\n",
        "                        'B1':7,\n",
        "                        'B1+':8,\n",
        "                        'A2':9,\n",
        "                        'A2+':10,\n",
        "                        'A1':11,\n",
        "                        'A1+':12}               \n",
        "\n",
        "filtered_dict = {key: value for key, value in info.items() if key in columns_wanted}     "
      ],
      "metadata": {
        "id": "aXMNUapPNqiD"
      },
      "execution_count": null,
      "outputs": []
    },
    {
      "cell_type": "code",
      "source": [
        "df = pd.DataFrame.from_dict(filtered_dict)\n",
        "lesson_number_dfs = []\n",
        "\n",
        "# Join this df to the main df\n",
        "\n",
        "for name in df['Student Name'].unique():\n",
        "  lesson_date_list = []\n",
        "  lesson_number_list = []\n",
        "  lesson_dates = sorted(df[df['Student Name']==name]['Lesson Date'].unique())\n",
        "  for lesson_number, lesson_date in enumerate(lesson_dates):\n",
        "    lesson_date_list = []\n",
        "    lesson_number_list = []\n",
        "    lesson_date_list.append(lesson_date)\n",
        "    lesson_number_list.append(lesson_number+1)\n",
        "    loop_df = pd.DataFrame(list(zip(lesson_date_list, lesson_number_list)),\n",
        "        columns = ['Lesson Date', 'Lesson Number'])\n",
        "    loop_df['Student Name'] = name\n",
        "    lesson_number_dfs.append(loop_df)\n",
        "\n",
        "lesson_number_df = pd.concat(lesson_number_dfs)\n",
        "df = pd.merge(df,lesson_number_df, how='left', on=['Student Name', 'Lesson Date'])"
      ],
      "metadata": {
        "id": "OdjCOtCrrAcI"
      },
      "execution_count": null,
      "outputs": []
    },
    {
      "cell_type": "code",
      "source": [
        "df['Total Lessons'] = len(df)/len(df['Student Name'].unique())\n",
        "df['Lesson Date'] = pd.to_datetime(df['Lesson Date'])\n",
        "df['CEFR numeric'] = df['CEFR level'].map(CEFR_level_converter)\n",
        "df['Flesch Kincaid numeric'] = df['Flesch Kincaid Reading Grade - CEFR level'].map(CEFR_level_converter)\n"
      ],
      "metadata": {
        "id": "4I27loiPn3qj"
      },
      "execution_count": null,
      "outputs": []
    },
    {
      "cell_type": "code",
      "source": [
        "lexis_evp_type = df[[\n",
        "    'Student ID',\n",
        "    'Lesson Number',\n",
        "    'A1 type %',\n",
        "    'A2 type %',\n",
        "    'B1 type %',\n",
        "    'B2 type %',\n",
        "    'C1 type %',\n",
        "    'C2 type %'\n",
        "]].melt(['Student ID', 'Lesson Number'])"
      ],
      "metadata": {
        "id": "VBkC41t-WZ0q"
      },
      "execution_count": null,
      "outputs": []
    },
    {
      "cell_type": "code",
      "source": [
        "lexis_evp_type"
      ],
      "metadata": {
        "colab": {
          "base_uri": "https://localhost:8080/",
          "height": 424
        },
        "id": "YbQTiHmuXvTG",
        "outputId": "f53d6b4b-9e4b-4080-c824-cf52a7ba95c6"
      },
      "execution_count": null,
      "outputs": [
        {
          "output_type": "execute_result",
          "data": {
            "text/plain": [
              "    Student ID  Lesson Number   variable  value\n",
              "0         0002             27  A1 type %  42.31\n",
              "1         0002             13  A1 type %  49.44\n",
              "2         0002             26  A1 type %  35.15\n",
              "3         0002             12  A1 type %  48.08\n",
              "4         0002              3  A1 type %  49.34\n",
              "..         ...            ...        ...    ...\n",
              "265       0001              2  C2 type %   1.03\n",
              "266       0001              4  C2 type %   0.00\n",
              "267       0001              5  C2 type %   0.81\n",
              "268       0001             13  C2 type %   0.00\n",
              "269       0001             10  C2 type %   1.42\n",
              "\n",
              "[270 rows x 4 columns]"
            ],
            "text/html": [
              "\n",
              "  <div id=\"df-757bc134-e95f-41c2-8784-9a4b3ae3e03b\">\n",
              "    <div class=\"colab-df-container\">\n",
              "      <div>\n",
              "<style scoped>\n",
              "    .dataframe tbody tr th:only-of-type {\n",
              "        vertical-align: middle;\n",
              "    }\n",
              "\n",
              "    .dataframe tbody tr th {\n",
              "        vertical-align: top;\n",
              "    }\n",
              "\n",
              "    .dataframe thead th {\n",
              "        text-align: right;\n",
              "    }\n",
              "</style>\n",
              "<table border=\"1\" class=\"dataframe\">\n",
              "  <thead>\n",
              "    <tr style=\"text-align: right;\">\n",
              "      <th></th>\n",
              "      <th>Student ID</th>\n",
              "      <th>Lesson Number</th>\n",
              "      <th>variable</th>\n",
              "      <th>value</th>\n",
              "    </tr>\n",
              "  </thead>\n",
              "  <tbody>\n",
              "    <tr>\n",
              "      <th>0</th>\n",
              "      <td>0002</td>\n",
              "      <td>27</td>\n",
              "      <td>A1 type %</td>\n",
              "      <td>42.31</td>\n",
              "    </tr>\n",
              "    <tr>\n",
              "      <th>1</th>\n",
              "      <td>0002</td>\n",
              "      <td>13</td>\n",
              "      <td>A1 type %</td>\n",
              "      <td>49.44</td>\n",
              "    </tr>\n",
              "    <tr>\n",
              "      <th>2</th>\n",
              "      <td>0002</td>\n",
              "      <td>26</td>\n",
              "      <td>A1 type %</td>\n",
              "      <td>35.15</td>\n",
              "    </tr>\n",
              "    <tr>\n",
              "      <th>3</th>\n",
              "      <td>0002</td>\n",
              "      <td>12</td>\n",
              "      <td>A1 type %</td>\n",
              "      <td>48.08</td>\n",
              "    </tr>\n",
              "    <tr>\n",
              "      <th>4</th>\n",
              "      <td>0002</td>\n",
              "      <td>3</td>\n",
              "      <td>A1 type %</td>\n",
              "      <td>49.34</td>\n",
              "    </tr>\n",
              "    <tr>\n",
              "      <th>...</th>\n",
              "      <td>...</td>\n",
              "      <td>...</td>\n",
              "      <td>...</td>\n",
              "      <td>...</td>\n",
              "    </tr>\n",
              "    <tr>\n",
              "      <th>265</th>\n",
              "      <td>0001</td>\n",
              "      <td>2</td>\n",
              "      <td>C2 type %</td>\n",
              "      <td>1.03</td>\n",
              "    </tr>\n",
              "    <tr>\n",
              "      <th>266</th>\n",
              "      <td>0001</td>\n",
              "      <td>4</td>\n",
              "      <td>C2 type %</td>\n",
              "      <td>0.00</td>\n",
              "    </tr>\n",
              "    <tr>\n",
              "      <th>267</th>\n",
              "      <td>0001</td>\n",
              "      <td>5</td>\n",
              "      <td>C2 type %</td>\n",
              "      <td>0.81</td>\n",
              "    </tr>\n",
              "    <tr>\n",
              "      <th>268</th>\n",
              "      <td>0001</td>\n",
              "      <td>13</td>\n",
              "      <td>C2 type %</td>\n",
              "      <td>0.00</td>\n",
              "    </tr>\n",
              "    <tr>\n",
              "      <th>269</th>\n",
              "      <td>0001</td>\n",
              "      <td>10</td>\n",
              "      <td>C2 type %</td>\n",
              "      <td>1.42</td>\n",
              "    </tr>\n",
              "  </tbody>\n",
              "</table>\n",
              "<p>270 rows × 4 columns</p>\n",
              "</div>\n",
              "      <button class=\"colab-df-convert\" onclick=\"convertToInteractive('df-757bc134-e95f-41c2-8784-9a4b3ae3e03b')\"\n",
              "              title=\"Convert this dataframe to an interactive table.\"\n",
              "              style=\"display:none;\">\n",
              "        \n",
              "  <svg xmlns=\"http://www.w3.org/2000/svg\" height=\"24px\"viewBox=\"0 0 24 24\"\n",
              "       width=\"24px\">\n",
              "    <path d=\"M0 0h24v24H0V0z\" fill=\"none\"/>\n",
              "    <path d=\"M18.56 5.44l.94 2.06.94-2.06 2.06-.94-2.06-.94-.94-2.06-.94 2.06-2.06.94zm-11 1L8.5 8.5l.94-2.06 2.06-.94-2.06-.94L8.5 2.5l-.94 2.06-2.06.94zm10 10l.94 2.06.94-2.06 2.06-.94-2.06-.94-.94-2.06-.94 2.06-2.06.94z\"/><path d=\"M17.41 7.96l-1.37-1.37c-.4-.4-.92-.59-1.43-.59-.52 0-1.04.2-1.43.59L10.3 9.45l-7.72 7.72c-.78.78-.78 2.05 0 2.83L4 21.41c.39.39.9.59 1.41.59.51 0 1.02-.2 1.41-.59l7.78-7.78 2.81-2.81c.8-.78.8-2.07 0-2.86zM5.41 20L4 18.59l7.72-7.72 1.47 1.35L5.41 20z\"/>\n",
              "  </svg>\n",
              "      </button>\n",
              "      \n",
              "  <style>\n",
              "    .colab-df-container {\n",
              "      display:flex;\n",
              "      flex-wrap:wrap;\n",
              "      gap: 12px;\n",
              "    }\n",
              "\n",
              "    .colab-df-convert {\n",
              "      background-color: #E8F0FE;\n",
              "      border: none;\n",
              "      border-radius: 50%;\n",
              "      cursor: pointer;\n",
              "      display: none;\n",
              "      fill: #1967D2;\n",
              "      height: 32px;\n",
              "      padding: 0 0 0 0;\n",
              "      width: 32px;\n",
              "    }\n",
              "\n",
              "    .colab-df-convert:hover {\n",
              "      background-color: #E2EBFA;\n",
              "      box-shadow: 0px 1px 2px rgba(60, 64, 67, 0.3), 0px 1px 3px 1px rgba(60, 64, 67, 0.15);\n",
              "      fill: #174EA6;\n",
              "    }\n",
              "\n",
              "    [theme=dark] .colab-df-convert {\n",
              "      background-color: #3B4455;\n",
              "      fill: #D2E3FC;\n",
              "    }\n",
              "\n",
              "    [theme=dark] .colab-df-convert:hover {\n",
              "      background-color: #434B5C;\n",
              "      box-shadow: 0px 1px 3px 1px rgba(0, 0, 0, 0.15);\n",
              "      filter: drop-shadow(0px 1px 2px rgba(0, 0, 0, 0.3));\n",
              "      fill: #FFFFFF;\n",
              "    }\n",
              "  </style>\n",
              "\n",
              "      <script>\n",
              "        const buttonEl =\n",
              "          document.querySelector('#df-757bc134-e95f-41c2-8784-9a4b3ae3e03b button.colab-df-convert');\n",
              "        buttonEl.style.display =\n",
              "          google.colab.kernel.accessAllowed ? 'block' : 'none';\n",
              "\n",
              "        async function convertToInteractive(key) {\n",
              "          const element = document.querySelector('#df-757bc134-e95f-41c2-8784-9a4b3ae3e03b');\n",
              "          const dataTable =\n",
              "            await google.colab.kernel.invokeFunction('convertToInteractive',\n",
              "                                                     [key], {});\n",
              "          if (!dataTable) return;\n",
              "\n",
              "          const docLinkHtml = 'Like what you see? Visit the ' +\n",
              "            '<a target=\"_blank\" href=https://colab.research.google.com/notebooks/data_table.ipynb>data table notebook</a>'\n",
              "            + ' to learn more about interactive tables.';\n",
              "          element.innerHTML = '';\n",
              "          dataTable['output_type'] = 'display_data';\n",
              "          await google.colab.output.renderOutput(dataTable, element);\n",
              "          const docLink = document.createElement('div');\n",
              "          docLink.innerHTML = docLinkHtml;\n",
              "          element.appendChild(docLink);\n",
              "        }\n",
              "      </script>\n",
              "    </div>\n",
              "  </div>\n",
              "  "
            ]
          },
          "metadata": {},
          "execution_count": 11
        }
      ]
    },
    {
      "cell_type": "code",
      "source": [
        "meta_discourse = df[[\n",
        "                  'Student ID',\n",
        "                  'Lesson Number',\n",
        "                  'Announce Goals type count',\n",
        "                  'Attitude marker type count',\n",
        "                  'Code gloss type count',\n",
        "                  'Emphatic type count',\n",
        "                  'Endophoric type count',\n",
        "                  'Evidential type count',\n",
        "                  'Hedge type count',\n",
        "                  'Label stage type count',\n",
        "                  'Logical connective type count',\n",
        "                  'Person marker type count',\n",
        "                  'Relational marker type count',\n",
        "                  'Sequencing type count',\n",
        "                  'Topic shift type count'\n",
        "]].melt(['Student ID', 'Lesson Number'])\n",
        "meta_discourse"
      ],
      "metadata": {
        "colab": {
          "base_uri": "https://localhost:8080/",
          "height": 424
        },
        "id": "zbO6gfBVqTBK",
        "outputId": "4f6638a3-e807-43d6-943e-d1a095013a54"
      },
      "execution_count": null,
      "outputs": [
        {
          "output_type": "execute_result",
          "data": {
            "text/plain": [
              "    Student ID  Lesson Number                   variable  value\n",
              "0         0002             27  Announce Goals type count    0.0\n",
              "1         0002             13  Announce Goals type count    0.0\n",
              "2         0002             26  Announce Goals type count    0.0\n",
              "3         0002             12  Announce Goals type count    0.0\n",
              "4         0002              3  Announce Goals type count    0.0\n",
              "..         ...            ...                        ...    ...\n",
              "580       0001              2     Topic shift type count    0.0\n",
              "581       0001              4     Topic shift type count    0.0\n",
              "582       0001              5     Topic shift type count    1.0\n",
              "583       0001             13     Topic shift type count    0.0\n",
              "584       0001             10     Topic shift type count    1.0\n",
              "\n",
              "[585 rows x 4 columns]"
            ],
            "text/html": [
              "\n",
              "  <div id=\"df-48eab6f7-3cee-4c55-bf11-2ab4f18d00d9\">\n",
              "    <div class=\"colab-df-container\">\n",
              "      <div>\n",
              "<style scoped>\n",
              "    .dataframe tbody tr th:only-of-type {\n",
              "        vertical-align: middle;\n",
              "    }\n",
              "\n",
              "    .dataframe tbody tr th {\n",
              "        vertical-align: top;\n",
              "    }\n",
              "\n",
              "    .dataframe thead th {\n",
              "        text-align: right;\n",
              "    }\n",
              "</style>\n",
              "<table border=\"1\" class=\"dataframe\">\n",
              "  <thead>\n",
              "    <tr style=\"text-align: right;\">\n",
              "      <th></th>\n",
              "      <th>Student ID</th>\n",
              "      <th>Lesson Number</th>\n",
              "      <th>variable</th>\n",
              "      <th>value</th>\n",
              "    </tr>\n",
              "  </thead>\n",
              "  <tbody>\n",
              "    <tr>\n",
              "      <th>0</th>\n",
              "      <td>0002</td>\n",
              "      <td>27</td>\n",
              "      <td>Announce Goals type count</td>\n",
              "      <td>0.0</td>\n",
              "    </tr>\n",
              "    <tr>\n",
              "      <th>1</th>\n",
              "      <td>0002</td>\n",
              "      <td>13</td>\n",
              "      <td>Announce Goals type count</td>\n",
              "      <td>0.0</td>\n",
              "    </tr>\n",
              "    <tr>\n",
              "      <th>2</th>\n",
              "      <td>0002</td>\n",
              "      <td>26</td>\n",
              "      <td>Announce Goals type count</td>\n",
              "      <td>0.0</td>\n",
              "    </tr>\n",
              "    <tr>\n",
              "      <th>3</th>\n",
              "      <td>0002</td>\n",
              "      <td>12</td>\n",
              "      <td>Announce Goals type count</td>\n",
              "      <td>0.0</td>\n",
              "    </tr>\n",
              "    <tr>\n",
              "      <th>4</th>\n",
              "      <td>0002</td>\n",
              "      <td>3</td>\n",
              "      <td>Announce Goals type count</td>\n",
              "      <td>0.0</td>\n",
              "    </tr>\n",
              "    <tr>\n",
              "      <th>...</th>\n",
              "      <td>...</td>\n",
              "      <td>...</td>\n",
              "      <td>...</td>\n",
              "      <td>...</td>\n",
              "    </tr>\n",
              "    <tr>\n",
              "      <th>580</th>\n",
              "      <td>0001</td>\n",
              "      <td>2</td>\n",
              "      <td>Topic shift type count</td>\n",
              "      <td>0.0</td>\n",
              "    </tr>\n",
              "    <tr>\n",
              "      <th>581</th>\n",
              "      <td>0001</td>\n",
              "      <td>4</td>\n",
              "      <td>Topic shift type count</td>\n",
              "      <td>0.0</td>\n",
              "    </tr>\n",
              "    <tr>\n",
              "      <th>582</th>\n",
              "      <td>0001</td>\n",
              "      <td>5</td>\n",
              "      <td>Topic shift type count</td>\n",
              "      <td>1.0</td>\n",
              "    </tr>\n",
              "    <tr>\n",
              "      <th>583</th>\n",
              "      <td>0001</td>\n",
              "      <td>13</td>\n",
              "      <td>Topic shift type count</td>\n",
              "      <td>0.0</td>\n",
              "    </tr>\n",
              "    <tr>\n",
              "      <th>584</th>\n",
              "      <td>0001</td>\n",
              "      <td>10</td>\n",
              "      <td>Topic shift type count</td>\n",
              "      <td>1.0</td>\n",
              "    </tr>\n",
              "  </tbody>\n",
              "</table>\n",
              "<p>585 rows × 4 columns</p>\n",
              "</div>\n",
              "      <button class=\"colab-df-convert\" onclick=\"convertToInteractive('df-48eab6f7-3cee-4c55-bf11-2ab4f18d00d9')\"\n",
              "              title=\"Convert this dataframe to an interactive table.\"\n",
              "              style=\"display:none;\">\n",
              "        \n",
              "  <svg xmlns=\"http://www.w3.org/2000/svg\" height=\"24px\"viewBox=\"0 0 24 24\"\n",
              "       width=\"24px\">\n",
              "    <path d=\"M0 0h24v24H0V0z\" fill=\"none\"/>\n",
              "    <path d=\"M18.56 5.44l.94 2.06.94-2.06 2.06-.94-2.06-.94-.94-2.06-.94 2.06-2.06.94zm-11 1L8.5 8.5l.94-2.06 2.06-.94-2.06-.94L8.5 2.5l-.94 2.06-2.06.94zm10 10l.94 2.06.94-2.06 2.06-.94-2.06-.94-.94-2.06-.94 2.06-2.06.94z\"/><path d=\"M17.41 7.96l-1.37-1.37c-.4-.4-.92-.59-1.43-.59-.52 0-1.04.2-1.43.59L10.3 9.45l-7.72 7.72c-.78.78-.78 2.05 0 2.83L4 21.41c.39.39.9.59 1.41.59.51 0 1.02-.2 1.41-.59l7.78-7.78 2.81-2.81c.8-.78.8-2.07 0-2.86zM5.41 20L4 18.59l7.72-7.72 1.47 1.35L5.41 20z\"/>\n",
              "  </svg>\n",
              "      </button>\n",
              "      \n",
              "  <style>\n",
              "    .colab-df-container {\n",
              "      display:flex;\n",
              "      flex-wrap:wrap;\n",
              "      gap: 12px;\n",
              "    }\n",
              "\n",
              "    .colab-df-convert {\n",
              "      background-color: #E8F0FE;\n",
              "      border: none;\n",
              "      border-radius: 50%;\n",
              "      cursor: pointer;\n",
              "      display: none;\n",
              "      fill: #1967D2;\n",
              "      height: 32px;\n",
              "      padding: 0 0 0 0;\n",
              "      width: 32px;\n",
              "    }\n",
              "\n",
              "    .colab-df-convert:hover {\n",
              "      background-color: #E2EBFA;\n",
              "      box-shadow: 0px 1px 2px rgba(60, 64, 67, 0.3), 0px 1px 3px 1px rgba(60, 64, 67, 0.15);\n",
              "      fill: #174EA6;\n",
              "    }\n",
              "\n",
              "    [theme=dark] .colab-df-convert {\n",
              "      background-color: #3B4455;\n",
              "      fill: #D2E3FC;\n",
              "    }\n",
              "\n",
              "    [theme=dark] .colab-df-convert:hover {\n",
              "      background-color: #434B5C;\n",
              "      box-shadow: 0px 1px 3px 1px rgba(0, 0, 0, 0.15);\n",
              "      filter: drop-shadow(0px 1px 2px rgba(0, 0, 0, 0.3));\n",
              "      fill: #FFFFFF;\n",
              "    }\n",
              "  </style>\n",
              "\n",
              "      <script>\n",
              "        const buttonEl =\n",
              "          document.querySelector('#df-48eab6f7-3cee-4c55-bf11-2ab4f18d00d9 button.colab-df-convert');\n",
              "        buttonEl.style.display =\n",
              "          google.colab.kernel.accessAllowed ? 'block' : 'none';\n",
              "\n",
              "        async function convertToInteractive(key) {\n",
              "          const element = document.querySelector('#df-48eab6f7-3cee-4c55-bf11-2ab4f18d00d9');\n",
              "          const dataTable =\n",
              "            await google.colab.kernel.invokeFunction('convertToInteractive',\n",
              "                                                     [key], {});\n",
              "          if (!dataTable) return;\n",
              "\n",
              "          const docLinkHtml = 'Like what you see? Visit the ' +\n",
              "            '<a target=\"_blank\" href=https://colab.research.google.com/notebooks/data_table.ipynb>data table notebook</a>'\n",
              "            + ' to learn more about interactive tables.';\n",
              "          element.innerHTML = '';\n",
              "          dataTable['output_type'] = 'display_data';\n",
              "          await google.colab.output.renderOutput(dataTable, element);\n",
              "          const docLink = document.createElement('div');\n",
              "          docLink.innerHTML = docLinkHtml;\n",
              "          element.appendChild(docLink);\n",
              "        }\n",
              "      </script>\n",
              "    </div>\n",
              "  </div>\n",
              "  "
            ]
          },
          "metadata": {},
          "execution_count": 12
        }
      ]
    },
    {
      "cell_type": "code",
      "source": [
        "model = LinearRegression()\n",
        "test_df = df[df['Student Name']=='Daisuke']\n",
        "model.fit(test_df['Lesson Number'].values.reshape(len(test_df),1),test_df['Lexical diversity (MTLD)'].values.reshape(len(test_df),1))\n",
        "model.coef_"
      ],
      "metadata": {
        "colab": {
          "base_uri": "https://localhost:8080/"
        },
        "id": "4-eiQsjrc4JM",
        "outputId": "59653dd5-b057-40fb-829d-dc834b4f8e23"
      },
      "execution_count": null,
      "outputs": [
        {
          "output_type": "execute_result",
          "data": {
            "text/plain": [
              "array([[-1.27010714]])"
            ]
          },
          "metadata": {},
          "execution_count": 13
        }
      ]
    },
    {
      "cell_type": "code",
      "source": [
        "test_df.columns"
      ],
      "metadata": {
        "colab": {
          "base_uri": "https://localhost:8080/"
        },
        "id": "9Gtgyt4nhIsp",
        "outputId": "9d808638-977e-4322-f86e-eaf7660fb8fa"
      },
      "execution_count": null,
      "outputs": [
        {
          "output_type": "execute_result",
          "data": {
            "text/plain": [
              "Index(['Student ID', 'Student Name', 'Lesson Date', 'Average Sentence Length',\n",
              "       'Lexical diversity (VOCD)', 'Lexical diversity (MTLD)',\n",
              "       'Spelling errors total', 'A1 type %', 'A2 type %', 'B1 type %',\n",
              "       'B2 type %', 'C1 type %', 'C2 type %', 'Announce Goals type count',\n",
              "       'Attitude marker type count', 'Code gloss type count',\n",
              "       'Emphatic type count', 'Endophoric type count', 'Evidential type count',\n",
              "       'Hedge type count', 'Label stage type count',\n",
              "       'Logical connective type count', 'Person marker type count',\n",
              "       'Relational marker type count', 'Sequencing type count',\n",
              "       'Topic shift type count', 'CEFR level',\n",
              "       'Flesch Kincaid Reading Grade - CEFR level', 'Lesson Number',\n",
              "       'Total Lessons', 'CEFR numeric', 'Flesch Kincaid numeric'],\n",
              "      dtype='object')"
            ]
          },
          "metadata": {},
          "execution_count": 14
        }
      ]
    },
    {
      "cell_type": "code",
      "source": [
        "for name in df['Student Name'].unique():\n",
        "  sorted_df = sorted(df[df['Student Name']==name]['Lesson Number'])"
      ],
      "metadata": {
        "id": "TehnDMOEv4nb"
      },
      "execution_count": null,
      "outputs": []
    },
    {
      "cell_type": "code",
      "source": [
        "sh = gc.open_by_url(database_path)\n",
        "worksheet = sh.worksheet('Database')\n",
        "worksheet.clear()\n",
        "worksheet.update([df.columns.astype(str).values.tolist()] + df.values.astype(str).tolist())\n",
        "worksheet = sh.worksheet('Lexis EVP Type')\n",
        "worksheet.clear()\n",
        "worksheet.update([lexis_evp_type.columns.astype(str).values.tolist()] + lexis_evp_type.values.astype(str).tolist())\n",
        "worksheet = sh.worksheet('Meta Discourse')\n",
        "worksheet.clear()\n",
        "worksheet.update([meta_discourse.columns.astype(str).values.tolist()] + meta_discourse.values.astype(str).tolist())"
      ],
      "metadata": {
        "colab": {
          "base_uri": "https://localhost:8080/"
        },
        "id": "uGEI6Unhm9P6",
        "outputId": "f142aae0-312f-46be-e5f5-bae0e2c9a4c9"
      },
      "execution_count": null,
      "outputs": [
        {
          "output_type": "execute_result",
          "data": {
            "text/plain": [
              "{'spreadsheetId': '1Y4BzFlHPEMYWtK1V8wtOA4WbCEG4Bb_7wTD0QM4XlI0',\n",
              " 'updatedRange': \"'Meta Discourse'!A1:D586\",\n",
              " 'updatedRows': 586,\n",
              " 'updatedColumns': 4,\n",
              " 'updatedCells': 2344}"
            ]
          },
          "metadata": {},
          "execution_count": 17
        }
      ]
    }
  ]
}